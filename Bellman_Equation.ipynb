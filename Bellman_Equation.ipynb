{
 "cells": [
  {
   "cell_type": "markdown",
   "metadata": {},
   "source": [
    "# Bellman Equation"
   ]
  },
  {
   "cell_type": "markdown",
   "metadata": {},
   "source": [
    "## Exercises from the Class Notes"
   ]
  },
  {
   "cell_type": "markdown",
   "metadata": {},
   "source": [
    "### Exercise 2.2\n",
    "Prove that the set $\\mathcal{C}(X)$ of bounded continuous functions $f:X\\rightarrow \\mathbb{R}$\n",
    "equipped with the sup norm $|| y || \\equiv \\max_{\\{ x \\in X \\}}|y(x)|$ is a complete normed vector space."
   ]
  },
  {
   "cell_type": "markdown",
   "metadata": {},
   "source": [
    "<details>\n",
    "<summary><b>Solution</b></summary>\n",
    "\n",
    "See Example 3 in Chapter 2.11 of Luenberger, $\\textit{Optimization by Vector Space Methods}$."
   ]
  },
  {
   "cell_type": "markdown",
   "metadata": {},
   "source": [
    "### Exercise 2.3\n",
    "Use an inductive argument similar to the one in the proof of Theorem 2.5. to establish that, when assumptions 2.1-2.4 hold, V is concave."
   ]
  },
  {
   "cell_type": "markdown",
   "metadata": {},
   "source": [
    "<details>\n",
    "<summary><b>Solution</b></summary>\n",
    "\n",
    "TBA"
   ]
  },
  {
   "cell_type": "markdown",
   "metadata": {
    "vscode": {
     "languageId": "plaintext"
    }
   },
   "source": [
    "## Additional Exercises"
   ]
  },
  {
   "cell_type": "markdown",
   "metadata": {},
   "source": [
    "### Exercise 2.4\n",
    "\n",
    "1. Show that the space of non-decreasing functions is the closure of the space of increasing functions.\n",
    "\n",
    "2. Show that the space of differentiable functions is not closed."
   ]
  },
  {
   "cell_type": "markdown",
   "metadata": {},
   "source": [
    "<details>\n",
    "<summary><b>Solution</b></summary>\n",
    "\n",
    "TBA: Classical results, Solutions available on the web."
   ]
  },
  {
   "cell_type": "markdown",
   "metadata": {},
   "source": [
    "### Exercise 2.5\n",
    "\n",
    "Let $S$ be the space of all continous, strictly increasing functions on $[a,b]$, with $||x,y||=\\max_{a\\leq t \\leq b}|x(t)-y(t)|$. \n",
    "\n",
    "1. Show that $S$ is not complete.\n",
    "\n",
    "2. Show that $S$ is complete if \"strictly increasing is replaced with \"nondecreasing\"."
   ]
  },
  {
   "cell_type": "markdown",
   "metadata": {},
   "source": [
    "<details>\n",
    "<summary><b>Solution</b></summary>\n",
    "\n",
    "TBA: Copy relevant parts of the solution of Exercise 3.6 in SLP."
   ]
  },
  {
   "cell_type": "markdown",
   "metadata": {},
   "source": [
    "### Exercise 2.6\n",
    "\n",
    "Show that if $T$ is a contraction on $S$, then $T$ is uniformly continuous on $S$."
   ]
  },
  {
   "cell_type": "markdown",
   "metadata": {},
   "source": [
    "<details>\n",
    "<summary><b>Solution</b></summary>\n",
    "\n",
    "TBA: Copy solution of Exercise 3.8 in SLP."
   ]
  },
  {
   "cell_type": "markdown",
   "metadata": {},
   "source": [
    "### Exercise 2.7\n",
    "\n",
    "Show that in a Banach space, i.e. a complete metric space, a subset is complete if and only if it is closed."
   ]
  },
  {
   "cell_type": "markdown",
   "metadata": {},
   "source": [
    "<details>\n",
    "<summary><b>Solution</b></summary>\n",
    "\n",
    "A complete subset is closed since every convergent (and hence Cauchy) sequence has a limit in the subset. A Cauchy sequence from a closed subset has a limit somewhere in the Banach space. By closure the limit must be in the subset.\n",
    "\n",
    "More explicitly, Since $S_0 ⊆ S$ is closed, any convergent sequence in $S_0$ converges to a point in $S_0$. Take the set of Cauchy sequences in $S$. They all converge to points in $S$ since $S$ is complete. Take the subset of those sequences that belong to $S_0$, then by the argument above they converge to a point in $S_0$, so $S_0$ is complete"
   ]
  },
  {
   "cell_type": "markdown",
   "metadata": {},
   "source": [
    "### Exercise 2.8\n",
    "\n",
    "1. Show that a continuous function on a compact metric space is bounded and uniformly continuous.\n",
    "\n",
    "2. (Weierstrass' extreme value theorem). If $X$ is compact and $f : X \\rightarrow R$ is continuous, then $f$ is bounded and attains its maximum and minimum values."
   ]
  },
  {
   "cell_type": "markdown",
   "metadata": {},
   "source": [
    "<details>\n",
    "<summary><b>Solution</b></summary>\n",
    "\n",
    "TBA Classical Result, Solutions available on the web."
   ]
  }
 ],
 "metadata": {
  "kernelspec": {
   "display_name": "optgrowth",
   "language": "python",
   "name": "python3"
  },
  "language_info": {
   "name": "python",
   "version": "3.11.5"
  }
 },
 "nbformat": 4,
 "nbformat_minor": 2
}
