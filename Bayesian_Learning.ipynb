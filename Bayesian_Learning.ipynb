{
 "cells": [
  {
   "cell_type": "markdown",
   "metadata": {},
   "source": [
    "# Bayesian Learning"
   ]
  },
  {
   "cell_type": "markdown",
   "metadata": {},
   "source": [
    "## Exercise 4.1 (Normal-Normal conjugacy)\n",
    "\n",
    "Let $y$ be a random variable that is drawn from a normal distribution with mean $\\mu$ and standard deviation $\\sigma$. \n",
    "\n",
    "1. Consider a dataset $Y=(y_1,y_2,...,y_n)$ containing $n$ realizations of $y$. Write down the likelihood of $Y$ as a function of $\\mu$ and  $\\sigma$\n",
    "\n",
    "2. Assume that $\\mu$ itself is Normally distributed around some mean $\\theta$ with standard deviation $\\tau$. Show that upon observing $Y$, the posterior belief about $\\mu$ remains normally distributed. Derive the posterior mean and standard deviation of $\\mu$. What do you notice about the standard deviation? Comment your finding.\n",
    "\n"
   ]
  },
  {
   "cell_type": "markdown",
   "metadata": {},
   "source": [
    "<details>\n",
    "<summary><b>Solution</b></summary>\n",
    "\n",
    "Hint: Multiple ressources online for this classical result. "
   ]
  }
 ],
 "metadata": {
  "language_info": {
   "name": "python"
  }
 },
 "nbformat": 4,
 "nbformat_minor": 2
}
