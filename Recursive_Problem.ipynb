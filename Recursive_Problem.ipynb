{
 "cells": [
  {
   "cell_type": "markdown",
   "metadata": {},
   "source": [
    "# Recursive Problem"
   ]
  },
  {
   "cell_type": "markdown",
   "metadata": {},
   "source": [
    "## Exercises from the Class Notes"
   ]
  },
  {
   "cell_type": "markdown",
   "metadata": {},
   "source": [
    "### Exercise 1.1 \n",
    "Show that the objective function of the cake-eating problem is strictly concave when the per-period utility is strictly concave."
   ]
  },
  {
   "cell_type": "markdown",
   "metadata": {},
   "source": [
    "<details>\n",
    "<summary><b>Solution</b></summary>\n",
    "TBA"
   ]
  },
  {
   "cell_type": "markdown",
   "metadata": {},
   "source": [
    "### Exercise 1.2 \n",
    "Generalize Theorem 1.1 without assuming that a maximum exists. Instead let the solution of (SP) be defined as a\n",
    "supremum and prove that it satisfies (FE)."
   ]
  },
  {
   "cell_type": "markdown",
   "metadata": {},
   "source": [
    "<details>\n",
    "<summary><b>Solution</b></summary>\n",
    "\n",
    "See Proof of Theorem 4.2 in SLP."
   ]
  },
  {
   "cell_type": "markdown",
   "metadata": {},
   "source": [
    "### Exercise 1.4\n",
    "\n",
    "Consider the Estate Planning problem when $U(c)=c$, $\\beta=1/(1+r)$\n",
    "and modify the savings technology so that\n",
    "\n",
    "$\\Gamma(x)= \\begin{cases} -x/\\beta, \\text{ if  } x>0 \\\\\n",
    "                       x/\\beta, \\text{ if  } x \\leq 0 \\end{cases}$"
   ]
  },
  {
   "cell_type": "markdown",
   "metadata": {},
   "source": [
    "Show that $V(x)=(1+r)x$ solves the Bellman equation although $V^*(x)\\neq (1+r)x$."
   ]
  },
  {
   "cell_type": "markdown",
   "metadata": {},
   "source": [
    "<details>\n",
    "<summary><b>Solution</b></summary>\n",
    "\n",
    "Since the feasibility set is always a singleton, the agent has no control over his action. Considering first cases where $x<0$, we have\n",
    "\n",
    "\n",
    "\\begin{align*}\n",
    "    V^*(x_0) & = (1+r)x_0-x_1+\\beta V^*(x_1) \\\\\n",
    "          & = (1+r)x_0 -\\frac{x_0}{\\beta}+\\beta V^*\\left(\\frac{x_0}{\\beta}\\right) \\\\\n",
    "          & = \\beta V^*\\left(\\frac{x_0}{\\beta}\\right).\n",
    "    \\end{align*}\n",
    "\n",
    "The second equality follows from $\\beta=1/(1+r)$. Iterating the computation above, one finds that $V^*(x_0)=0$ when $x_0<0$.\n",
    "\n",
    "Consider now cases where $x>0$. Then we have \n",
    "\\begin{align*}\n",
    "      V^*(x_0) & = (1+r)x_0-x_1+\\beta V^*(x_1) \\\\\n",
    "            & = (1+r)x_0 +\\frac{x_0}{\\beta}+\\beta V^*\\left(-\\frac{x_0}{\\beta}\\right) \\\\\n",
    "            & = 2(1+r)x_0+\\beta V^*\\left(-\\frac{x_0}{\\beta}\\right)\\\\\n",
    "            & = 2(1+r)x_0.\n",
    "      \\end{align*}\n",
    "\n",
    "The last equality follows from the fact that $V^*\\left(-\\frac{x_0}{\\beta}\\right)=0$ because $-x_0/\\beta$ is negative.\n",
    "\n",
    "Putting together the two solutions, we find that $V^*(x)=\\min\\{2(1+r)x,0\\}$. The optimal solution to the sequential problem satisfies the trensversality condition since $\\lim_{t\\rightarrow \\infty}\\beta^tV^*(x^*_t)=0$.\n",
    "\n",
    "We now compute the solution of the Functional Equation $V(x)=\\max_{x' \\in \\Gamma(x)}\\left\\{(1+r)x-x'+\\beta V(x')\\right\\}.$\n",
    "\n",
    "We try the following guess $V(x)=(1+r)x$. Reinserting it into the Functional Equation, we get\n",
    "\\begin{align*}\n",
    "      V(x) & = \\max_{x' \\in \\Gamma(x)}\\left\\{(1+r)x-x'+\\beta (1+r)(x')\\right\\} \\\\\n",
    "            & = \\max_{x' \\in \\Gamma(x)}\\left\\{(1+r)x\\right\\}\\\\\n",
    "            & = (1+r)x,\\\\\n",
    "      \\end{align*}\n",
    "\n",
    "The second equality follows from $\\beta=1/(1+r)$. Hence $V(x)=(1+r)x$ is indeed a solution of the Functional Equation. However, $V(x) \\neq V^*(x)$ even though $V^*(x^*)$ satisfies the transversality condition. By contrast, $V(x)$ does not satsfy the condition of Theorem 1.5 in the class notes since\n",
    "\n",
    "$$ \\lim_{t\\rightarrow \\infty}\\beta^tV(x^*_t)=x_0<0, \\text{when } x_0<0.$$\n",
    "\n",
    "</details>"
   ]
  },
  {
   "cell_type": "markdown",
   "metadata": {},
   "source": [
    "## Additional Exercises"
   ]
  },
  {
   "cell_type": "markdown",
   "metadata": {
    "vscode": {
     "languageId": "plaintext"
    }
   },
   "source": [
    "## Exercise 1.5 (Lagrangian) \n",
    "\n",
    "1. Consider the Estate Planning problem in Exercice 1.1. Let the horizon $T$ go to infinity and use the Lagrangian to derive the transversality condition.\n",
    "\n",
    "2. Under what condition on the value function is the transversality condition for the Lagrangian problem implied by that of the recursive problem?"
   ]
  },
  {
   "cell_type": "markdown",
   "metadata": {
    "vscode": {
     "languageId": "plaintext"
    }
   },
   "source": [
    "\n",
    "<details>\n",
    "<summary><b>Solution</b></summary>\n",
    "\n",
    "1. We introduce the Lagrange multiplier $(\\lambda)$ for the intertemporal constraint that govern the evolution of assets, and a terminal multiplier $( \\mu_T \\geq 0 )$ for the no Ponzi condition $( a_{T+1} \\geq 0 )$.\n",
    "\n",
    "    The Lagrangian for this problem with finite horizon $T$ can be written as follows\n",
    "\n",
    "    $\n",
    "    \\mathcal{L} = \\sum_{t=0}^T \\beta^t U(c_t) + \\lambda \\left[a_0 - \\sum_{t=0}^T c_t - a_{T+1}\\right] + \\mu_T a_{T+1}.\n",
    "    $\n",
    "\n",
    "    Focusing on the terminal condition, we find that\n",
    "\n",
    "    $\n",
    "    \\frac{\\partial \\mathcal{L}}{\\partial a_{T+1}} = 0 \\rightarrow \\lambda = \\mu_T .\n",
    "    $\n",
    "\n",
    "    Since $\\lambda = \\beta^t u'(c_t) >0$, we have $\\mu_T >0$ and the Kuhn-Tucker condition $\\mu_T a_{T+1} = 0$ implies that $a_{T+1} = 0$.\n",
    "\n",
    "    Letting the horizon go to infinity, we obtain the transversality condition\n",
    "\n",
    "    $ \\lim_{T\\rightarrow \\infty} \\mu_T a_{T+1} = \\lim_{T\\rightarrow \\infty} \\beta^T u'(c_T) a_{T+1} = 0.$ \n",
    "\n",
    "2. The FOC of the Bellman equation is given by $\\beta V'(a_{t+1})= u'(c_t)$. Hence, if **the value function is concave**, we have\n",
    "\n",
    "    $ u'(c_T) a_{T+1}=\\beta V'(a_{T+1})a_{T+1} \\leq \\beta V(a_{T+1})$,\n",
    "\n",
    "    which implies that\n",
    "    $ \\beta^T u'(c_T) a_{T+1} \\leq \\beta^{T+1} V(a_{T+1})$.\n",
    "    Remember that the transversality condition of the Bellman equation reads $\\lim_{T\\rightarrow \\infty} \\beta^TV(a_T) =0$. Hence we indeed have $\\lim_{T\\rightarrow \\infty} \\beta^T u'(c_T) a_{T+1} = 0$, whenever the transversality condition of the recursive problem holds and the value function is concave. \n",
    "    \n",
    "    We will show in lecture 2 that concavity of the value function holds true because the value function inherits the concavity of the per-period utility function $u(c)$. In other words, the transversality condition of the recrusive problem is more stringent than that of the Lagrangian problem. \n",
    "\n"
   ]
  },
  {
   "cell_type": "markdown",
   "metadata": {},
   "source": [
    "## Exercise 1.6 (Unbounded Rewards) \n",
    "\n",
    "Show that the transveraslity condition of Theorem 1.3 is violated in the cake-eating problem when $u(c)=ln(c)$."
   ]
  },
  {
   "cell_type": "markdown",
   "metadata": {},
   "source": [
    "<details>\n",
    "<summary><b>Solution</b></summary>\n",
    "\n",
    "Consider the path where $c_0=(1+r)a_0$ and $c_t=0$ for all $t>0$. This consumption profile is obviously feasible. Hence $\\underline{a}=\\{(1+r)a_0,0,0,...\\}\\in \\Pi(a_0)$. Given that $\\Gamma(0)=0$, the value function must satisfy\n",
    "$$ V(0) = u(0) + \\beta V(0),$$\n",
    "and so $V(0) = u(0)/(1-\\beta)=-\\infty$ since $u(c)=ln(c)$. In particular, we have $V(0)<-\\beta^{-T}$, which implies in turn that $\\beta^TV(a_T)<-1$ for all $T$. It follows that $\\underline{a}$ violates the transversality condition $\\lim_{T\\rightarrow \\infty} \\beta^TV(a_T)=0$. "
   ]
  }
 ],
 "metadata": {
  "language_info": {
   "name": "python"
  }
 },
 "nbformat": 4,
 "nbformat_minor": 2
}
