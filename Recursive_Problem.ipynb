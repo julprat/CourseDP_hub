{
 "cells": [
  {
   "cell_type": "markdown",
   "metadata": {},
   "source": [
    "# Recursive Problem"
   ]
  },
  {
   "cell_type": "markdown",
   "metadata": {},
   "source": [
    "## Exercises from the Class Notes"
   ]
  },
  {
   "cell_type": "markdown",
   "metadata": {},
   "source": [
    "### Exercise 1.4\n",
    "\n",
    "Consider the Estate Planning problem when $U(c)=c$, $\\beta=1/(1+r)$\n",
    "and modify the savings technology so that\n",
    "\n",
    "$\\Gamma(x)= \\begin{cases} -x/\\beta, \\text{ if  } x>0 \\\\\n",
    "                       x/\\beta, \\text{ if  } x \\leq 0 \\end{cases}$"
   ]
  },
  {
   "cell_type": "markdown",
   "metadata": {},
   "source": [
    "Show that $V(x)=(1+r)x$ solves the Bellman equation although $V^*(x)\\neq (1+r)x$."
   ]
  },
  {
   "cell_type": "markdown",
   "metadata": {},
   "source": [
    "<details>\n",
    "<summary><b>Solution</b></summary>\n",
    "\n",
    "Since the feasibility set is always a singleton, the agent has no control over his action. Considering first cases where $x<0$, we have\n",
    "\n",
    "\n",
    "\\begin{align*}\n",
    "    V^*(x_0) & = (1+r)x_0-x_1+\\beta V^*(x_1) \\\\\n",
    "          & = (1+r)x_0 -\\frac{x_0}{\\beta}+\\beta V^*\\left(\\frac{x_0}{\\beta}\\right) \\\\\n",
    "          & = \\beta V^*\\left(\\frac{x_0}{\\beta}\\right).\n",
    "    \\end{align*}\n",
    "\n",
    "The second equality follows from $\\beta=1/(1+r)$. Iterating the computation above, one finds that $V^*(x_0)=0$ when $x_0<0$.\n",
    "\n",
    "Consider now cases where $x>0$. Then we have \n",
    "\\begin{align*}\n",
    "      V^*(x_0) & = (1+r)x_0-x_1+\\beta V^*(x_1) \\\\\n",
    "            & = (1+r)x_0 +\\frac{x_0}{\\beta}+\\beta V^*\\left(-\\frac{x_0}{\\beta}\\right) \\\\\n",
    "            & = 2(1+r)x_0+\\beta V^*\\left(-\\frac{x_0}{\\beta}\\right)\\\\\n",
    "            & = 2(1+r)x_0.\n",
    "      \\end{align*}\n",
    "\n",
    "The last equality follows from the fact that $V^*\\left(-\\frac{x_0}{\\beta}\\right)=0$ because $-x_0/\\beta$ is negative.\n",
    "\n",
    "Putting together the two solutions, we find that $V^*(x)=\\min\\{2(1+r)x,0\\}$. The optimal solution to the sequential problem satisfies the trensversality condition since $\\lim_{t\\rightarrow \\infty}\\beta^tV^*(x^*_t)=0$.\n",
    "\n",
    "We now compute the solution of the Functional Equation $V(x)=\\max_{x' \\in \\Gamma(x)}\\left\\{(1+r)x-x'+\\beta V(x')\\right\\}.$\n",
    "\n",
    "We try the following guess $V(x)=(1+r)x$. Reinserting it into the Functional Equation, we get\n",
    "\\begin{align*}\n",
    "      V(x) & = \\max_{x' \\in \\Gamma(x)}\\left\\{(1+r)x-x'+\\beta (1+r)(x')\\right\\} \\\\\n",
    "            & = \\max_{x' \\in \\Gamma(x)}\\left\\{(1+r)x\\right\\}\\\\\n",
    "            & = (1+r)x,\\\\\n",
    "      \\end{align*}\n",
    "\n",
    "The second equality follows from $\\beta=1/(1+r)$. Hence $V(x)=(1+r)x$ is indeed a solution of the Functional Equation. However, $V(x) \\neq V^*(x)$ even though $V^*(x^*)$ satisfies the transversality condition. By contrast, $V(x)$ does not satsfy the condition of Theorem 1.4 in the class notes since\n",
    "\n",
    "$$ \\lim_{t\\rightarrow \\infty}\\beta^tV(x^*_t)=x_0<0, \\text{when } x_0<0.$$\n",
    "\n",
    "</details>"
   ]
  }
 ],
 "metadata": {
  "language_info": {
   "name": "python"
  }
 },
 "nbformat": 4,
 "nbformat_minor": 2
}
